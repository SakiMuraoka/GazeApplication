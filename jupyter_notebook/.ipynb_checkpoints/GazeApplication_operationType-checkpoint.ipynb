{
 "cells": [
  {
   "cell_type": "code",
   "execution_count": 1,
   "metadata": {},
   "outputs": [],
   "source": [
    "import pandas as pd \n",
    "import numpy as np\n",
    "from sklearn import linear_model\n",
    "%matplotlib inline\n",
    "from matplotlib import pyplot as plt\n",
    "from sklearn.model_selection import train_test_split\n",
    "from sklearn import svm,metrics\n",
    "\n",
    "from sklearn.metrics import confusion_matrix # 混合行列\n",
    "from sklearn.decomposition import PCA #主成分分析\n",
    "from sklearn.linear_model import LogisticRegression # ロジスティック回帰\n",
    "from sklearn.neighbors import KNeighborsClassifier # K近傍法\n",
    "from sklearn.svm import SVC # サポートベクターマシン\n",
    "from sklearn.tree import DecisionTreeClassifier # 決定木\n",
    "from sklearn.ensemble import RandomForestClassifier # ランダムフォレスト\n",
    "from sklearn.ensemble import AdaBoostClassifier # AdaBoost\n",
    "from sklearn.naive_bayes import GaussianNB # ナイーブ・ベイズ\n",
    "from sklearn.discriminant_analysis import LinearDiscriminantAnalysis as LDA\n",
    "# from sklearn.lda import LDA # 線形判別分析\n",
    "from sklearn.discriminant_analysis import QuadraticDiscriminantAnalysis as QDA\n",
    "# from sklearn.qda import QDA # 二次判別分析"
   ]
  },
  {
   "cell_type": "code",
   "execution_count": 2,
   "metadata": {},
   "outputs": [
    {
     "name": "stdout",
     "output_type": "stream",
     "text": [
      "0      none\n",
      "1      none\n",
      "2      none\n",
      "3      none\n",
      "4      none\n",
      "       ... \n",
      "940    none\n",
      "941    none\n",
      "942    none\n",
      "943    none\n",
      "944    none\n",
      "Length: 945, dtype: object\n"
     ]
    },
    {
     "data": {
      "text/plain": [
       "0    none\n",
       "1    none\n",
       "2    none\n",
       "3    none\n",
       "4    none\n",
       "Name: nextOperationType, dtype: object"
      ]
     },
     "execution_count": 2,
     "metadata": {},
     "output_type": "execute_result"
    }
   ],
   "source": [
    "#データの処理\n",
    "#生データ\n",
    "csv_data = pd.read_csv('むらさき_2020-09-27_map.csv')\n",
    "#必要なデータのみ取り出し\n",
    "csv_data_ = csv_data.drop(['frameId', 'timestamp', 'mode'],axis=1)\n",
    "shift = 200\n",
    "init = np.full(shift, 'none')\n",
    "s = pd.Series(csv_data_['operationType'].iloc[shift:len(csv_data_)], name='X')\n",
    "s_ = pd.Series(init, name=\"none\")\n",
    "s = s.append(s_)\n",
    "s = s.reset_index(drop=True)\n",
    "print(s)\n",
    "csv_data_['nextOperationType'] = s\n",
    "#ターゲットと顔，右目，左目のデータ\n",
    "csv_data_ = csv_data_.drop(['operationType', 'operationPosition'], axis=1)\n",
    "data_ = csv_data_.iloc[:, 48]\n",
    "face_data_ = csv_data_.iloc[:, 0:16]\n",
    "face_data = pd.concat([face_data_, data_], axis=1)\n",
    "right_data_ = csv_data_.iloc[:, 16:32]\n",
    "right_data = pd.concat([right_data_, data_], axis=1)\n",
    "left_data = csv_data_.iloc[:, 33:49]\n",
    "#特徴量xとターゲットy\n",
    "csv_data_x = csv_data_.iloc[:,0:48]\n",
    "csv_data_y = csv_data_.iloc[:,48]\n",
    "\n",
    "csv_data_y.head()"
   ]
  },
  {
   "cell_type": "code",
   "execution_count": 3,
   "metadata": {},
   "outputs": [],
   "source": [
    "# トレーニング・テストデータ分割\n",
    "X = csv_data_x\n",
    "Y = csv_data_y\n",
    "X_train, X_test, Y_train, Y_test = train_test_split(X, Y, random_state=0)"
   ]
  },
  {
   "cell_type": "code",
   "execution_count": 4,
   "metadata": {},
   "outputs": [
    {
     "name": "stderr",
     "output_type": "stream",
     "text": [
      "/Applications/anaconda3/envs/test/lib/python3.8/site-packages/sklearn/discriminant_analysis.py:715: UserWarning: Variables are collinear\n",
      "  warnings.warn(\"Variables are collinear\")\n"
     ]
    },
    {
     "data": {
      "text/html": [
       "<div>\n",
       "<style scoped>\n",
       "    .dataframe tbody tr th:only-of-type {\n",
       "        vertical-align: middle;\n",
       "    }\n",
       "\n",
       "    .dataframe tbody tr th {\n",
       "        vertical-align: top;\n",
       "    }\n",
       "\n",
       "    .dataframe thead th {\n",
       "        text-align: right;\n",
       "    }\n",
       "</style>\n",
       "<table border=\"1\" class=\"dataframe\">\n",
       "  <thead>\n",
       "    <tr style=\"text-align: right;\">\n",
       "      <th></th>\n",
       "      <th>trainx</th>\n",
       "      <th>testx</th>\n",
       "    </tr>\n",
       "  </thead>\n",
       "  <tbody>\n",
       "    <tr>\n",
       "      <th>Decision Tree</th>\n",
       "      <td>1.000000</td>\n",
       "      <td>0.991561</td>\n",
       "    </tr>\n",
       "    <tr>\n",
       "      <th>Random Forest</th>\n",
       "      <td>1.000000</td>\n",
       "      <td>0.991561</td>\n",
       "    </tr>\n",
       "    <tr>\n",
       "      <th>Nearest Neighbors</th>\n",
       "      <td>0.968927</td>\n",
       "      <td>0.957806</td>\n",
       "    </tr>\n",
       "    <tr>\n",
       "      <th>Quadratic Discriminant Analysis</th>\n",
       "      <td>0.946328</td>\n",
       "      <td>0.936709</td>\n",
       "    </tr>\n",
       "    <tr>\n",
       "      <th>Linear Discriminant Analysis</th>\n",
       "      <td>0.967514</td>\n",
       "      <td>0.932489</td>\n",
       "    </tr>\n",
       "    <tr>\n",
       "      <th>AdaBoost</th>\n",
       "      <td>0.881356</td>\n",
       "      <td>0.881857</td>\n",
       "    </tr>\n",
       "    <tr>\n",
       "      <th>Naive Bayes</th>\n",
       "      <td>0.902542</td>\n",
       "      <td>0.869198</td>\n",
       "    </tr>\n",
       "    <tr>\n",
       "      <th>Logistic Regression</th>\n",
       "      <td>0.621469</td>\n",
       "      <td>0.649789</td>\n",
       "    </tr>\n",
       "    <tr>\n",
       "      <th>Linear SVM</th>\n",
       "      <td>0.621469</td>\n",
       "      <td>0.649789</td>\n",
       "    </tr>\n",
       "    <tr>\n",
       "      <th>Polynomial SVM</th>\n",
       "      <td>0.621469</td>\n",
       "      <td>0.649789</td>\n",
       "    </tr>\n",
       "    <tr>\n",
       "      <th>RBF SVM</th>\n",
       "      <td>0.621469</td>\n",
       "      <td>0.649789</td>\n",
       "    </tr>\n",
       "    <tr>\n",
       "      <th>Sigmoid SVM</th>\n",
       "      <td>0.621469</td>\n",
       "      <td>0.649789</td>\n",
       "    </tr>\n",
       "  </tbody>\n",
       "</table>\n",
       "</div>"
      ],
      "text/plain": [
       "                                   trainx     testx\n",
       "Decision Tree                    1.000000  0.991561\n",
       "Random Forest                    1.000000  0.991561\n",
       "Nearest Neighbors                0.968927  0.957806\n",
       "Quadratic Discriminant Analysis  0.946328  0.936709\n",
       "Linear Discriminant Analysis     0.967514  0.932489\n",
       "AdaBoost                         0.881356  0.881857\n",
       "Naive Bayes                      0.902542  0.869198\n",
       "Logistic Regression              0.621469  0.649789\n",
       "Linear SVM                       0.621469  0.649789\n",
       "Polynomial SVM                   0.621469  0.649789\n",
       "RBF SVM                          0.621469  0.649789\n",
       "Sigmoid SVM                      0.621469  0.649789"
      ]
     },
     "execution_count": 4,
     "metadata": {},
     "output_type": "execute_result"
    }
   ],
   "source": [
    "#いろんな分類器を比較\n",
    "names = [\"Logistic Regression\", \"Nearest Neighbors\", \n",
    "         \"Linear SVM\", \"Polynomial SVM\", \"RBF SVM\", \"Sigmoid SVM\", \n",
    "         \"Decision Tree\",\"Random Forest\", \"AdaBoost\", \"Naive Bayes\", \n",
    "         \"Linear Discriminant Analysis\",\"Quadratic Discriminant Analysis\"]\n",
    "\n",
    "classifiers = [\n",
    "    LogisticRegression(),\n",
    "    KNeighborsClassifier(),\n",
    "    SVC(kernel=\"linear\"),\n",
    "    SVC(kernel=\"poly\"),\n",
    "    SVC(kernel=\"rbf\"),\n",
    "    SVC(kernel=\"sigmoid\"),\n",
    "    DecisionTreeClassifier(),\n",
    "    RandomForestClassifier(),\n",
    "    AdaBoostClassifier(),\n",
    "    GaussianNB(),\n",
    "    LDA(),\n",
    "    QDA()]\n",
    "resultx = []\n",
    "for name, clf in zip(names, classifiers): # 指定した複数の分類機を順番に呼び出す\n",
    "    clfx = clf\n",
    "    clfx.fit(X_train, Y_train)\n",
    "    score1x = clfx.score(X_train, Y_train) # 正解率（train）の算出\n",
    "    score2x = clfx.score(X_test, Y_test) # 正解率（test）の算出\n",
    "    resultx.append([score1x, score2x]) # 結果の格納\n",
    "\n",
    "# test の正解率の大きい順に並べる\n",
    "df_resultx = pd.DataFrame(resultx, columns=['trainx', 'testx'], index=names).sort_values('testx', ascending=False)\n",
    "df_resultx # 結果の確認"
   ]
  },
  {
   "cell_type": "code",
   "execution_count": 5,
   "metadata": {},
   "outputs": [
    {
     "data": {
      "text/plain": [
       "<matplotlib.axes._subplots.AxesSubplot at 0x7f80cd7da490>"
      ]
     },
     "execution_count": 5,
     "metadata": {},
     "output_type": "execute_result"
    },
    {
     "data": {
      "image/png": "[encoded data removed]",
      "text/plain": [
       "<Figure size 432x288 with 1 Axes>"
      ]
     },
     "metadata": {
      "needs_background": "light"
     },
     "output_type": "display_data"
    }
   ],
   "source": [
    "df_resultx.plot(kind='bar', alpha=0.5, grid=True)\n",
    "plt.savefig(\"operationType.svg\", format=\"svg\",dpi=1200)"
   ]
  },
  {
   "cell_type": "code",
   "execution_count": 6,
   "metadata": {},
   "outputs": [
    {
     "name": "stdout",
     "output_type": "stream",
     "text": [
      "xの正解率： 0.9915611814345991\n",
      "Y_test: 406     doubleTap\n",
      "546     doubleTap\n",
      "689     doubleTap\n",
      "14           none\n",
      "261     doubleTap\n",
      "240     doubleTap\n",
      "685     doubleTap\n",
      "886          none\n",
      "854          none\n",
      "511     doubleTap\n",
      "924          none\n",
      "262     doubleTap\n",
      "145     doubleTap\n",
      "496     doubleTap\n",
      "295     doubleTap\n",
      "676     doubleTap\n",
      "436     doubleTap\n",
      "141     doubleTap\n",
      "868          none\n",
      "613     doubleTap\n",
      "856          none\n",
      "279     doubleTap\n",
      "364     doubleTap\n",
      "619     doubleTap\n",
      "31           drug\n",
      "647     doubleTap\n",
      "711    typeButton\n",
      "415     doubleTap\n",
      "889          none\n",
      "338     doubleTap\n",
      "Name: nextOperationType, dtype: object\n",
      "Y_pred: ['doubleTap' 'doubleTap' 'doubleTap' 'none' 'doubleTap' 'doubleTap'\n",
      " 'doubleTap' 'none' 'none' 'doubleTap' 'none' 'doubleTap' 'doubleTap'\n",
      " 'doubleTap' 'doubleTap' 'doubleTap' 'doubleTap' 'doubleTap' 'none'\n",
      " 'doubleTap' 'none' 'doubleTap' 'doubleTap' 'doubleTap' 'drug' 'doubleTap'\n",
      " 'typeButton' 'doubleTap' 'none' 'doubleTap']\n"
     ]
    }
   ],
   "source": [
    "#SVM\n",
    "clfx = RandomForestClassifier()\n",
    "\n",
    "clfx.fit(X_train, Y_train)\n",
    "predx = clfx.predict(X_test)\n",
    "\n",
    "ac_scorex = metrics.accuracy_score(Y_test, predx)\n",
    "print('xの正解率：',ac_scorex) \n",
    "print(\"Y_test:\", Y_test[:30])\n",
    "print(\"Y_pred:\", predx[:30])"
   ]
  },
  {
   "cell_type": "code",
   "execution_count": null,
   "metadata": {},
   "outputs": [],
   "source": []
  },
  {
   "cell_type": "code",
   "execution_count": null,
   "metadata": {},
   "outputs": [],
   "source": []
  }
 ],
 "metadata": {
  "kernelspec": {
   "display_name": "Python 3",
   "language": "python",
   "name": "python3"
  },
  "language_info": {
   "codemirror_mode": {
    "name": "ipython",
    "version": 3
   },
   "file_extension": ".py",
   "mimetype": "text/x-python",
   "name": "python",
   "nbconvert_exporter": "python",
   "pygments_lexer": "ipython3",
   "version": "3.8.3"
  }
 },
 "nbformat": 4,
 "nbformat_minor": 4
}
